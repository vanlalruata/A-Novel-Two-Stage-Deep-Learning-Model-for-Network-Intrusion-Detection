{
 "cells": [
  {
   "cell_type": "code",
   "execution_count": 1,
   "id": "85c7f917",
   "metadata": {},
   "outputs": [],
   "source": [
    "import os\n",
    "import numpy as np\n",
    "import pandas as pd\n",
    "\n",
    "import tensorflow as tf\n",
    "from tensorflow import keras\n",
    "\n",
    "import pickle # saving and loading trained model\n",
    "from os import path\n",
    "\n",
    "# importing required libraries for normalizing data\n",
    "from sklearn import preprocessing\n",
    "from sklearn.preprocessing import StandardScaler\n",
    "\n",
    "# importing library for plotting\n",
    "import matplotlib.pyplot as plt\n",
    "import seaborn as sn\n",
    "\n",
    "import glob\n",
    "import random\n"
   ]
  },
  {
   "cell_type": "code",
   "execution_count": 2,
   "id": "29751299",
   "metadata": {},
   "outputs": [],
   "source": [
    "# Set GPU device\n",
    "physical_devices = tf.config.list_physical_devices('GPU')\n",
    "tf.config.experimental.set_memory_growth(physical_devices[0], True)"
   ]
  },
  {
   "cell_type": "code",
   "execution_count": 3,
   "id": "f6691148",
   "metadata": {},
   "outputs": [
    {
     "name": "stdout",
     "output_type": "stream",
     "text": [
      "Read Completed for  H:\\Datasets\\cic-ids-2018\\bot_02-03-2018.csv\n",
      "Read Completed for  H:\\Datasets\\cic-ids-2018\\bruteforce-web-xss_sql-injection_22-02-2018.csv\n",
      "Read Completed for  H:\\Datasets\\cic-ids-2018\\bruteforce-web-xss_sql-injection_23-02-2018.csv\n",
      "Read Completed for  H:\\Datasets\\cic-ids-2018\\ddos-loic-udp_hoic_21-02-2018.csv\n",
      "Read Completed for  H:\\Datasets\\cic-ids-2018\\dos-goldeneye-slowloris_15-02-2018.csv\n",
      "Read Completed for  H:\\Datasets\\cic-ids-2018\\dos-slowhttp-hulk_16-02-2018.csv\n",
      "Read Completed for  H:\\Datasets\\cic-ids-2018\\infiltration_01-03-2018.csv\n",
      "Read Completed for  H:\\Datasets\\cic-ids-2018\\infiltration_28-02-2018.csv\n"
     ]
    }
   ],
   "source": [
    "import glob\n",
    "\n",
    "path = r'H:\\Datasets\\cic-ids-2018' # use your path\n",
    "all_files = glob.glob(path + \"/*.csv\")\n",
    "\n",
    "li = []\n",
    "\n",
    "for filename in all_files:\n",
    "    df = pd.read_csv(filename, low_memory=False, index_col=None, header=0)\n",
    "    li.append(df)\n",
    "    print(\"Read Completed for \", filename)\n",
    "\n",
    "df = pd.concat(li, axis=0, ignore_index=True)\n",
    "\n",
    "df = df.rename(columns={'label': 'Label'})"
   ]
  },
  {
   "cell_type": "code",
   "execution_count": 4,
   "id": "1803f478",
   "metadata": {},
   "outputs": [
    {
     "data": {
      "text/plain": [
       "Benign                      5444525\n",
       "DDOS attack-HOIC             686012\n",
       "DoS attacks-Hulk             461912\n",
       "Bot                          286191\n",
       "Infilteration                161934\n",
       "DoS attacks-SlowHTTPTest     139890\n",
       "DoS attacks-GoldenEye         41508\n",
       "DoS attacks-Slowloris         10990\n",
       "DDOS attack-LOIC-UDP           1730\n",
       "Brute Force -Web                611\n",
       "Brute Force -XSS                230\n",
       "SQL Injection                    87\n",
       "Name: Label, dtype: int64"
      ]
     },
     "execution_count": 4,
     "metadata": {},
     "output_type": "execute_result"
    }
   ],
   "source": [
    "df[\"Label\"].value_counts()"
   ]
  },
  {
   "cell_type": "code",
   "execution_count": 5,
   "id": "15501f92",
   "metadata": {},
   "outputs": [
    {
     "name": "stdout",
     "output_type": "stream",
     "text": [
      "(7235620, 80)\n"
     ]
    }
   ],
   "source": [
    "print(df.shape)"
   ]
  },
  {
   "cell_type": "code",
   "execution_count": 6,
   "id": "27b3bd44",
   "metadata": {},
   "outputs": [
    {
     "name": "stdout",
     "output_type": "stream",
     "text": [
      "After dropping some columns: \n",
      "\t there are 77 columns and 7235620 rows\n"
     ]
    }
   ],
   "source": [
    "# Remove columns with only values of 0\n",
    "useless_columns = ['dst_port', 'protocol', 'timestamp']\n",
    "df.drop(labels=useless_columns, axis='columns', inplace=True)\n",
    "print('After dropping some columns: \\n\\t there are {} columns and {} rows'.format(len(df.columns), len(df)))\n",
    "\n",
    "features = df.columns"
   ]
  },
  {
   "cell_type": "code",
   "execution_count": 7,
   "id": "8799140a",
   "metadata": {},
   "outputs": [
    {
     "data": {
      "image/png": "[encoded data removed]",
      "text/plain": [
       "<Figure size 1080x504 with 1 Axes>"
      ]
     },
     "metadata": {
      "needs_background": "light"
     },
     "output_type": "display_data"
    }
   ],
   "source": [
    "plt.figure(figsize=(15,7))\n",
    "class_distribution = df[df[\"Label\"] != \"BENIGN\"][\"Label\"].value_counts()\n",
    "class_distribution.plot(kind='bar')\n",
    "plt.xlabel('Class')\n",
    "plt.ylabel('Data points per Class')\n",
    "plt.title('Distribution of data without Benign')\n",
    "plt.grid()\n",
    "plt.show()"
   ]
  },
  {
   "cell_type": "code",
   "execution_count": 8,
   "id": "0fa744d1",
   "metadata": {},
   "outputs": [],
   "source": [
    "from scipy.stats import zscore\n",
    "\n",
    "def expand_categories(values):\n",
    "    result = []\n",
    "    s = values.value_counts()\n",
    "    t = float(len(values))\n",
    "    for v in s.index:\n",
    "        result.append(\"{}:{}%\".format(v,round(100*(s[v]/t),2)))\n",
    "    return \"[{}]\".format(\",\".join(result))\n",
    "        \n",
    "def analyze(df):\n",
    "    print()\n",
    "    cols = df.columns.values\n",
    "    total = float(len(df))\n",
    "\n",
    "    print(\"{} rows\".format(int(total)))\n",
    "    for col in cols:\n",
    "        uniques = df[col].unique()\n",
    "        unique_count = len(uniques)\n",
    "        if unique_count>100:\n",
    "            print(\"** {}:{} ({}%)\".format(col,unique_count,int(((unique_count)/total)*100)))\n",
    "        else:\n",
    "            print(\"** {}:{}\".format(col,expand_categories(df[col])))\n",
    "            expand_categories(df[col])"
   ]
  },
  {
   "cell_type": "code",
   "execution_count": 9,
   "id": "5145ae8b",
   "metadata": {},
   "outputs": [
    {
     "data": {
      "image/png": "[encoded data removed]",
      "text/plain": [
       "<Figure size 1080x504 with 1 Axes>"
      ]
     },
     "metadata": {
      "needs_background": "light"
     },
     "output_type": "display_data"
    },
    {
     "name": "stdout",
     "output_type": "stream",
     "text": [
      "Number of data points in class Benign : 5444525 ( 75.246 %)\n",
      "Number of data points in class DDOS attack-HOIC : 686012 ( 9.481 %)\n",
      "Number of data points in class DoS attacks-Hulk : 461912 ( 6.384 %)\n",
      "Number of data points in class Bot : 286191 ( 3.955 %)\n",
      "Number of data points in class Infilteration : 161934 ( 2.238 %)\n",
      "Number of data points in class DoS attacks-SlowHTTPTest : 139890 ( 1.933 %)\n",
      "Number of data points in class DoS attacks-GoldenEye : 41508 ( 0.574 %)\n",
      "Number of data points in class DoS attacks-Slowloris : 10990 ( 0.152 %)\n",
      "Number of data points in class DDOS attack-LOIC-UDP : 1730 ( 0.024 %)\n",
      "Number of data points in class Brute Force -Web : 611 ( 0.008 %)\n",
      "Number of data points in class Brute Force -XSS : 230 ( 0.003 %)\n",
      "Number of data points in class SQL Injection : 87 ( 0.001 %)\n"
     ]
    }
   ],
   "source": [
    "import matplotlib.pyplot as plt\n",
    "from matplotlib.pyplot import *\n",
    "\n",
    "plt.figure(figsize=(15,7))\n",
    "class_distribution = df['Label'].value_counts()\n",
    "class_distribution.plot(kind='bar')\n",
    "plt.xlabel('Class')\n",
    "plt.ylabel('Data points per Class')\n",
    "plt.title('Distribution of CICIDS2017 Training Data Before Cleaning')\n",
    "plt.grid()\n",
    "plt.show()\n",
    "\n",
    "# Before Cleaning Data set for Duplicate\n",
    "sorted_ds = np.argsort(-class_distribution.values)\n",
    "for i in sorted_ds:\n",
    "    print('Number of data points in class', class_distribution.index[i],':', class_distribution.values[i], \n",
    "          '(', np.round((class_distribution.values[i]/df.shape[0]*100), 3), '%)')"
   ]
  },
  {
   "cell_type": "code",
   "execution_count": 11,
   "id": "c779400f",
   "metadata": {},
   "outputs": [
    {
     "name": "stdout",
     "output_type": "stream",
     "text": [
      "Read 7214943 rows.\n"
     ]
    }
   ],
   "source": [
    "del sorted_ds\n",
    "\n",
    "#drop na values and reset index\n",
    "data_clean = df.dropna().reset_index()\n",
    "\n",
    "# Checkng for DUPLICATE values\n",
    "data_clean.drop_duplicates(keep='first', inplace = True)\n",
    "\n",
    "data_clean['Label'].value_counts()\n",
    "\n",
    "print(\"Read {} rows.\".format(len(data_clean)))"
   ]
  },
  {
   "cell_type": "code",
   "execution_count": 12,
   "id": "163dddf5",
   "metadata": {},
   "outputs": [
    {
     "name": "stdout",
     "output_type": "stream",
     "text": [
      "\n",
      "7214943 rows\n",
      "** index:7214943 (100%)\n",
      "** flow_duration:2276311 (31%)\n",
      "** tot_fwd_pkts:3534 (0%)\n",
      "** tot_bwd_pkts:2527 (0%)\n",
      "** totlen_fwd_pkts:15086 (0%)\n",
      "** totlen_bwd_pkts:55856 (0%)\n",
      "** fwd_pkt_len_max:1495 (0%)\n",
      "** fwd_pkt_len_min:378 (0%)\n",
      "** fwd_pkt_len_mean:74876 (1%)\n",
      "** fwd_pkt_len_std:172162 (2%)\n",
      "** bwd_pkt_len_max:1453 (0%)\n",
      "** bwd_pkt_len_min:377 (0%)\n",
      "** bwd_pkt_len_mean:127820 (1%)\n",
      "** bwd_pkt_len_std:185297 (2%)\n",
      "** flow_byts_s:3088543 (42%)\n",
      "** flow_pkts_s:2753137 (38%)\n",
      "** flow_iat_mean:2574633 (35%)\n",
      "** flow_iat_std:3267832 (45%)\n",
      "** flow_iat_max:1530887 (21%)\n",
      "** flow_iat_min:417527 (5%)\n",
      "** fwd_iat_tot:1970492 (27%)\n",
      "** fwd_iat_mean:2296965 (31%)\n",
      "** fwd_iat_std:2446852 (33%)\n",
      "** fwd_iat_max:1575653 (21%)\n",
      "** fwd_iat_min:502936 (6%)\n",
      "** bwd_iat_tot:1398003 (19%)\n",
      "** bwd_iat_mean:1678410 (23%)\n",
      "** bwd_iat_std:2081006 (28%)\n",
      "** bwd_iat_max:903930 (12%)\n",
      "** bwd_iat_min:317698 (4%)\n",
      "** fwd_psh_flags:[0:96.84%,1:3.16%]\n",
      "** bwd_psh_flags:[0:100.0%]\n",
      "** fwd_urg_flags:[0:99.96%,1:0.04%]\n",
      "** bwd_urg_flags:[0:100.0%]\n",
      "** fwd_header_len:5194 (0%)\n",
      "** bwd_header_len:4586 (0%)\n",
      "** fwd_pkts_s:2716239 (37%)\n",
      "** bwd_pkts_s:2249846 (31%)\n",
      "** pkt_len_min:135 (0%)\n",
      "** pkt_len_max:1514 (0%)\n",
      "** pkt_len_mean:196763 (2%)\n",
      "** pkt_len_std:285244 (3%)\n",
      "** pkt_len_var:283690 (3%)\n",
      "** fin_flag_cnt:[0:99.65%,1:0.35%]\n",
      "** syn_flag_cnt:[0:96.84%,1:3.16%]\n",
      "** rst_flag_cnt:[0:81.78%,1:18.22%]\n",
      "** psh_flag_cnt:[0:62.48%,1:37.52%]\n",
      "** ack_flag_cnt:[0:59.38%,1:40.62%]\n",
      "** urg_flag_cnt:[0:96.61%,1:3.39%]\n",
      "** cwe_flag_count:[0:99.96%,1:0.04%]\n",
      "** ece_flag_cnt:[0:81.78%,1:18.22%]\n",
      "** down_up_ratio:114 (0%)\n",
      "** pkt_size_avg:195862 (2%)\n",
      "** fwd_seg_size_avg:74876 (1%)\n",
      "** bwd_seg_size_avg:127817 (1%)\n",
      "** fwd_byts_b_avg:[0:100.0%]\n",
      "** fwd_pkts_b_avg:[0:100.0%]\n",
      "** fwd_blk_rate_avg:[0:100.0%]\n",
      "** bwd_byts_b_avg:[0:100.0%]\n",
      "** bwd_pkts_b_avg:[0:100.0%]\n",
      "** bwd_blk_rate_avg:[0:100.0%]\n",
      "** subflow_fwd_pkts:3534 (0%)\n",
      "** subflow_fwd_byts:15086 (0%)\n",
      "** subflow_bwd_pkts:2527 (0%)\n",
      "** subflow_bwd_byts:55854 (0%)\n",
      "** init_fwd_win_byts:11131 (0%)\n",
      "** init_bwd_win_byts:11178 (0%)\n",
      "** fwd_act_data_pkts:2113 (0%)\n",
      "** fwd_seg_size_min:[20:61.28%,8:20.48%,32:13.49%,40:2.25%,24:1.17%,0:1.14%,28:0.17%,36:0.01%,44:0.0%,48:0.0%,56:0.0%]\n",
      "** active_mean:471819 (6%)\n",
      "** active_std:390423 (5%)\n",
      "** active_max:400767 (5%)\n",
      "** active_min:193190 (2%)\n",
      "** idle_mean:641473 (8%)\n",
      "** idle_std:409699 (5%)\n",
      "** idle_max:480280 (6%)\n",
      "** idle_min:548502 (7%)\n",
      "** Label:[Benign:75.19%,DDOS attack-HOIC:9.51%,DoS attacks-Hulk:6.4%,Bot:3.97%,Infilteration:2.23%,DoS attacks-SlowHTTPTest:1.94%,DoS attacks-GoldenEye:0.58%,DoS attacks-Slowloris:0.15%,DDOS attack-LOIC-UDP:0.02%,Brute Force -Web:0.01%,Brute Force -XSS:0.0%,SQL Injection:0.0%]\n"
     ]
    }
   ],
   "source": [
    "analyze(data_clean)"
   ]
  },
  {
   "cell_type": "code",
   "execution_count": 13,
   "id": "d304e9a1",
   "metadata": {},
   "outputs": [
    {
     "data": {
      "image/png": "[encoded data removed]",
      "text/plain": [
       "<Figure size 1080x504 with 1 Axes>"
      ]
     },
     "metadata": {
      "needs_background": "light"
     },
     "output_type": "display_data"
    }
   ],
   "source": [
    "plt.figure(figsize=(15,7))\n",
    "class_distribution = data_clean['Label'].value_counts()\n",
    "class_distribution.plot(kind='bar')\n",
    "plt.xlabel('Class')\n",
    "plt.ylabel('Data points per Class')\n",
    "plt.title('Distribution of Cleaned CICIDS2017 Training Data')\n",
    "plt.grid()\n",
    "plt.show()"
   ]
  },
  {
   "cell_type": "code",
   "execution_count": 14,
   "id": "a1b96baf",
   "metadata": {},
   "outputs": [
    {
     "name": "stdout",
     "output_type": "stream",
     "text": [
      "Number of data points in class Benign : 5424686 ( 74.972 %)\n",
      "Number of data points in class DDOS attack-HOIC : 686012 ( 9.481 %)\n",
      "Number of data points in class DoS attacks-Hulk : 461912 ( 6.384 %)\n",
      "Number of data points in class Bot : 286191 ( 3.955 %)\n",
      "Number of data points in class Infilteration : 161096 ( 2.226 %)\n",
      "Number of data points in class DoS attacks-SlowHTTPTest : 139890 ( 1.933 %)\n",
      "Number of data points in class DoS attacks-GoldenEye : 41508 ( 0.574 %)\n",
      "Number of data points in class DoS attacks-Slowloris : 10990 ( 0.152 %)\n",
      "Number of data points in class DDOS attack-LOIC-UDP : 1730 ( 0.024 %)\n",
      "Number of data points in class Brute Force -Web : 611 ( 0.008 %)\n",
      "Number of data points in class Brute Force -XSS : 230 ( 0.003 %)\n",
      "Number of data points in class SQL Injection : 87 ( 0.001 %)\n"
     ]
    }
   ],
   "source": [
    "# After Cleaning Data set for Duplicate\n",
    "sorted_ds = np.argsort(-class_distribution.values)\n",
    "for i in sorted_ds:\n",
    "    print('Number of data points in class', class_distribution.index[i],':', class_distribution.values[i], \n",
    "          '(', np.round((class_distribution.values[i]/df.shape[0]*100), 3), '%)')"
   ]
  },
  {
   "cell_type": "code",
   "execution_count": 15,
   "id": "f3f50489",
   "metadata": {},
   "outputs": [],
   "source": [
    "from sklearn.model_selection import train_test_split\n",
    "from sklearn.preprocessing import OneHotEncoder, StandardScaler, LabelEncoder\n",
    "\n",
    "\n",
    "#drop na values and reset index\n",
    "data_clean = df.dropna().reset_index()\n",
    "\n",
    "# label encoding\n",
    "labelencoder = LabelEncoder()\n",
    "data_clean['Label'] = labelencoder.fit_transform(data_clean['Label'])\n",
    "\n",
    "data_clean['Label'].value_counts()\n",
    "\n",
    "data_np = data_clean.to_numpy(dtype=\"float32\")\n",
    "data_np = data_np[~np.isinf(data_np).any(axis=1)]\n",
    "\n",
    "#del df\n",
    "\n",
    "X = data_np[:, 0:76]\n",
    "\n",
    "enc = OneHotEncoder()\n",
    "\n",
    "Y = enc.fit_transform(data_np[:,77:]).toarray()"
   ]
  },
  {
   "cell_type": "code",
   "execution_count": 16,
   "id": "00d9b1a3",
   "metadata": {},
   "outputs": [
    {
     "data": {
      "text/plain": [
       "(7214943, 78)"
      ]
     },
     "execution_count": 16,
     "metadata": {},
     "output_type": "execute_result"
    }
   ],
   "source": [
    "data_clean.shape"
   ]
  },
  {
   "cell_type": "code",
   "execution_count": 17,
   "id": "66d584d9",
   "metadata": {},
   "outputs": [
    {
     "name": "stdout",
     "output_type": "stream",
     "text": [
      "(7214943, 78)\n"
     ]
    }
   ],
   "source": [
    "print(data_clean.shape)"
   ]
  },
  {
   "cell_type": "code",
   "execution_count": 18,
   "id": "e227533c",
   "metadata": {},
   "outputs": [
    {
     "name": "stdout",
     "output_type": "stream",
     "text": [
      "X.shape =  (7203137, 76)\n",
      "Y.shape =  (7203137, 12)\n",
      "X_train.shape =  (5402352, 76)\n",
      "y_train.shape =  (5402352, 12)\n",
      "X_test.shape =  (1800785, 76)\n",
      "y_test.shape =  (1800785, 12)\n"
     ]
    }
   ],
   "source": [
    "scaler = StandardScaler()\n",
    "X_scaled = scaler.fit_transform(X)\n",
    "\n",
    "# Split the data set into training and testing\n",
    "X_train, X_test, Y_train, Y_test = train_test_split(\n",
    "    X_scaled, Y, test_size=0.25, random_state=2, shuffle=True)\n",
    "\n",
    "_features = X.shape[1]\n",
    "n_classes = Y.shape[1]\n",
    "\n",
    "print('X.shape = ',X.shape)\n",
    "print('Y.shape = ',Y.shape)\n",
    "print('X_train.shape = ',X_train.shape)\n",
    "print('y_train.shape = ', Y_train.shape)\n",
    "print('X_test.shape = ', X_test.shape)\n",
    "print('y_test.shape = ',Y_test.shape)"
   ]
  },
  {
   "cell_type": "code",
   "execution_count": 19,
   "id": "555981d1",
   "metadata": {},
   "outputs": [
    {
     "name": "stdout",
     "output_type": "stream",
     "text": [
      "X Shape:  (7203137, 76)\n",
      "Y Shape:  (7203137, 12)\n"
     ]
    }
   ],
   "source": [
    "print(\"X Shape: \", X.shape)\n",
    "print(\"Y Shape: \", Y.shape)"
   ]
  },
  {
   "cell_type": "code",
   "execution_count": 20,
   "id": "7d72ff61",
   "metadata": {},
   "outputs": [],
   "source": [
    "from keras import regularizers\n",
    "from keras.layers import Dense, LeakyReLU, BatchNormalization, Input, LSTM, TimeDistributed, RepeatVector, Lambda\n",
    "from keras import Input\n",
    "from sklearn.preprocessing import MinMaxScaler\n",
    "from keras.models import Model\n",
    "from keras import regularizers"
   ]
  },
  {
   "cell_type": "code",
   "execution_count": 21,
   "id": "fb8cfe24",
   "metadata": {},
   "outputs": [
    {
     "name": "stdout",
     "output_type": "stream",
     "text": [
      "Training data shape: (5402352, 1, 76)\n",
      "Test data shape: (1800785, 1, 76)\n"
     ]
    }
   ],
   "source": [
    "# reshape inputs for LSTM [samples, timesteps, features]\n",
    "X_train = X_train.reshape(X_train.shape[0], 1, X_train.shape[1])\n",
    "print(\"Training data shape:\", X_train.shape)\n",
    "X_test = X_test.reshape(X_test.shape[0], 1, X_test.shape[1])\n",
    "print(\"Test data shape:\", X_test.shape)"
   ]
  },
  {
   "cell_type": "code",
   "execution_count": 22,
   "id": "77ecf842",
   "metadata": {},
   "outputs": [
    {
     "name": "stdout",
     "output_type": "stream",
     "text": [
      "X.shape =  (7203137, 76)\n",
      "Y.shape =  (7203137, 12)\n",
      "X_train.shape =  (5402352, 1, 76)\n",
      "y_train.shape =  (5402352, 12)\n",
      "X_test.shape =  (1800785, 1, 76)\n",
      "y_test.shape =  (1800785, 12)\n"
     ]
    }
   ],
   "source": [
    "print('X.shape = ',X.shape)\n",
    "print('Y.shape = ',Y.shape)\n",
    "print('X_train.shape = ',X_train.shape)\n",
    "print('y_train.shape = ', Y_train.shape)\n",
    "print('X_test.shape = ', X_test.shape)\n",
    "print('y_test.shape = ',Y_test.shape)"
   ]
  },
  {
   "cell_type": "code",
   "execution_count": 23,
   "id": "8c2b40bc",
   "metadata": {},
   "outputs": [
    {
     "name": "stdout",
     "output_type": "stream",
     "text": [
      "Input Features:  76\n",
      "Input Classes:  12\n"
     ]
    }
   ],
   "source": [
    "print('Input Features: ', _features)\n",
    "print('Input Classes: ', n_classes)"
   ]
  },
  {
   "cell_type": "markdown",
   "id": "beb30523",
   "metadata": {},
   "source": [
    "# LSTM-AE Model"
   ]
  },
  {
   "cell_type": "code",
   "execution_count": 24,
   "id": "1a4a7909",
   "metadata": {},
   "outputs": [],
   "source": [
    "# define the autoencoder network model\n",
    "def autoencoder_model(X):\n",
    "    inputs = Input(shape=(X.shape[1], X.shape[2]))\n",
    "    L1 = LSTM(196, activation='relu', return_sequences=True, \n",
    "              kernel_regularizer=regularizers.l2(0.00))(inputs)\n",
    "    L2 = LSTM(125, activation='relu', return_sequences=False)(L1)\n",
    "    L3 = RepeatVector(X.shape[1])(L2)\n",
    "    L4 = LSTM(125, activation='relu', return_sequences=True)(L3)\n",
    "    L5 = LSTM(196, activation='relu', return_sequences=True)(L4)\n",
    "    output = TimeDistributed(Dense(X.shape[2]))(L5)    \n",
    "    model = Model(inputs=inputs, outputs=output)\n",
    "    return model"
   ]
  },
  {
   "cell_type": "markdown",
   "id": "0a2f3581",
   "metadata": {},
   "source": [
    "# With default learning rate and mse loss function."
   ]
  },
  {
   "cell_type": "code",
   "execution_count": 25,
   "id": "b061aaa4",
   "metadata": {},
   "outputs": [
    {
     "name": "stdout",
     "output_type": "stream",
     "text": [
      "WARNING:tensorflow:Layer lstm will not use cuDNN kernels since it doesn't meet the criteria. It will use a generic GPU kernel as fallback when running on GPU.\n",
      "WARNING:tensorflow:Layer lstm_1 will not use cuDNN kernels since it doesn't meet the criteria. It will use a generic GPU kernel as fallback when running on GPU.\n",
      "WARNING:tensorflow:Layer lstm_2 will not use cuDNN kernels since it doesn't meet the criteria. It will use a generic GPU kernel as fallback when running on GPU.\n",
      "WARNING:tensorflow:Layer lstm_3 will not use cuDNN kernels since it doesn't meet the criteria. It will use a generic GPU kernel as fallback when running on GPU.\n",
      "Model: \"model\"\n",
      "_________________________________________________________________\n",
      " Layer (type)                Output Shape              Param #   \n",
      "=================================================================\n",
      " input_1 (InputLayer)        [(None, 1, 76)]           0         \n",
      "                                                                 \n",
      " lstm (LSTM)                 (None, 1, 196)            214032    \n",
      "                                                                 \n",
      " lstm_1 (LSTM)               (None, 125)               161000    \n",
      "                                                                 \n",
      " repeat_vector (RepeatVector  (None, 1, 125)           0         \n",
      " )                                                               \n",
      "                                                                 \n",
      " lstm_2 (LSTM)               (None, 1, 125)            125500    \n",
      "                                                                 \n",
      " lstm_3 (LSTM)               (None, 1, 196)            252448    \n",
      "                                                                 \n",
      " time_distributed (TimeDistr  (None, 1, 76)            14972     \n",
      " ibuted)                                                         \n",
      "                                                                 \n",
      "=================================================================\n",
      "Total params: 767,952\n",
      "Trainable params: 767,952\n",
      "Non-trainable params: 0\n",
      "_________________________________________________________________\n"
     ]
    }
   ],
   "source": [
    "# create the autoencoder model\n",
    "model = autoencoder_model(X_train)\n",
    "model.compile(optimizer='adam', loss='mse', metrics='accuracy') \n",
    "model.summary()"
   ]
  },
  {
   "cell_type": "code",
   "execution_count": 26,
   "id": "648c2442",
   "metadata": {},
   "outputs": [
    {
     "name": "stdout",
     "output_type": "stream",
     "text": [
      "Epoch 1/5\n",
      "40096/40096 [==============================] - 431s 11ms/step - loss: 0.0179 - accuracy: 0.9321 - val_loss: 0.0167 - val_accuracy: 0.9458\n",
      "Epoch 2/5\n",
      "40096/40096 [==============================] - 451s 11ms/step - loss: 0.0144 - accuracy: 0.9521 - val_loss: 0.0113 - val_accuracy: 0.9725\n",
      "Epoch 3/5\n",
      "40096/40096 [==============================] - 448s 11ms/step - loss: 0.0137 - accuracy: 0.9626 - val_loss: 0.0096 - val_accuracy: 0.9775\n",
      "Epoch 4/5\n",
      "40096/40096 [==============================] - 447s 11ms/step - loss: 0.0101 - accuracy: 0.9717 - val_loss: 0.0087 - val_accuracy: 0.9785\n",
      "Epoch 5/5\n",
      "40096/40096 [==============================] - 439s 11ms/step - loss: 0.0097 - accuracy: 0.9807 - val_loss: 0.0076 - val_accuracy: 0.9838\n"
     ]
    }
   ],
   "source": [
    "# fit the model to the data\n",
    "history = model.fit(X_train, X_train, epochs=5, batch_size=128, validation_split=0.05).history"
   ]
  },
  {
   "cell_type": "code",
   "execution_count": 27,
   "id": "7e5074de",
   "metadata": {},
   "outputs": [
    {
     "name": "stdout",
     "output_type": "stream",
     "text": [
      "56275/56275 [==============================] - 113s 2ms/step\n",
      "Inference time: 143.14 seconds\n"
     ]
    }
   ],
   "source": [
    "import time\n",
    "\n",
    "# Measure inference time\n",
    "start_time = time.time()\n",
    "pred = model.predict(X_test)\n",
    "end_time = time.time()\n",
    "\n",
    "inference_time = end_time - start_time\n",
    "print(\"Inference time: {:.2f} seconds\".format(inference_time))\n",
    "\n",
    "pred = np.argmax(pred,axis=1)\n",
    "y_test = Y_test.argmax(axis=1)"
   ]
  },
  {
   "cell_type": "markdown",
   "id": "1f3b51c7",
   "metadata": {},
   "source": [
    "# With learning rate=0.0001 and mse loss function."
   ]
  },
  {
   "cell_type": "code",
   "execution_count": 28,
   "id": "2daaa1c6",
   "metadata": {},
   "outputs": [
    {
     "name": "stdout",
     "output_type": "stream",
     "text": [
      "WARNING:tensorflow:Layer lstm_4 will not use cuDNN kernels since it doesn't meet the criteria. It will use a generic GPU kernel as fallback when running on GPU.\n",
      "WARNING:tensorflow:Layer lstm_5 will not use cuDNN kernels since it doesn't meet the criteria. It will use a generic GPU kernel as fallback when running on GPU.\n",
      "WARNING:tensorflow:Layer lstm_6 will not use cuDNN kernels since it doesn't meet the criteria. It will use a generic GPU kernel as fallback when running on GPU.\n",
      "WARNING:tensorflow:Layer lstm_7 will not use cuDNN kernels since it doesn't meet the criteria. It will use a generic GPU kernel as fallback when running on GPU.\n",
      "Model: \"model_1\"\n",
      "_________________________________________________________________\n",
      " Layer (type)                Output Shape              Param #   \n",
      "=================================================================\n",
      " input_2 (InputLayer)        [(None, 1, 76)]           0         \n",
      "                                                                 \n",
      " lstm_4 (LSTM)               (None, 1, 196)            214032    \n",
      "                                                                 \n",
      " lstm_5 (LSTM)               (None, 125)               161000    \n",
      "                                                                 \n",
      " repeat_vector_1 (RepeatVect  (None, 1, 125)           0         \n",
      " or)                                                             \n",
      "                                                                 \n",
      " lstm_6 (LSTM)               (None, 1, 125)            125500    \n",
      "                                                                 \n",
      " lstm_7 (LSTM)               (None, 1, 196)            252448    \n",
      "                                                                 \n",
      " time_distributed_1 (TimeDis  (None, 1, 76)            14972     \n",
      " tributed)                                                       \n",
      "                                                                 \n",
      "=================================================================\n",
      "Total params: 767,952\n",
      "Trainable params: 767,952\n",
      "Non-trainable params: 0\n",
      "_________________________________________________________________\n"
     ]
    }
   ],
   "source": [
    "# create the autoencoder model\n",
    "model = autoencoder_model(X_train)\n",
    "\n",
    "opt = tf.keras.optimizers.Adam(learning_rate=0.0001)\n",
    "\n",
    "model.compile(optimizer=opt, loss='mse', metrics='accuracy') \n",
    "model.summary()"
   ]
  },
  {
   "cell_type": "code",
   "execution_count": 29,
   "id": "b73bd30b",
   "metadata": {},
   "outputs": [
    {
     "name": "stdout",
     "output_type": "stream",
     "text": [
      "Epoch 1/5\n",
      "40096/40096 [==============================] - 446s 11ms/step - loss: 0.0120 - accuracy: 0.9056 - val_loss: 0.0109 - val_accuracy: 0.9584\n",
      "Epoch 2/5\n",
      "40096/40096 [==============================] - 454s 11ms/step - loss: 0.0091 - accuracy: 0.9673 - val_loss: 0.0088 - val_accuracy: 0.9707\n",
      "Epoch 3/5\n",
      "40096/40096 [==============================] - 458s 11ms/step - loss: 0.0087 - accuracy: 0.9775 - val_loss: 0.0071 - val_accuracy: 0.9792\n",
      "Epoch 4/5\n",
      "40096/40096 [==============================] - 457s 11ms/step - loss: 0.0069 - accuracy: 0.9802 - val_loss: 0.0072 - val_accuracy: 0.9843\n",
      "Epoch 5/5\n",
      "40096/40096 [==============================] - 457s 11ms/step - loss: 0.0063 - accuracy: 0.9854 - val_loss: 0.0050 - val_accuracy: 0.9863\n"
     ]
    }
   ],
   "source": [
    "# fit the model to the data\n",
    "history = model.fit(X_train, X_train, epochs=5, batch_size=128, validation_split=0.05).history"
   ]
  },
  {
   "cell_type": "code",
   "execution_count": 30,
   "id": "9b942828",
   "metadata": {},
   "outputs": [
    {
     "name": "stdout",
     "output_type": "stream",
     "text": [
      "56275/56275 [==============================] - 105s 2ms/step\n",
      "Inference time: 120.71 seconds\n"
     ]
    }
   ],
   "source": [
    "import time\n",
    "\n",
    "# Measure inference time\n",
    "start_time = time.time()\n",
    "pred = model.predict(X_test)\n",
    "end_time = time.time()\n",
    "\n",
    "inference_time = end_time - start_time\n",
    "print(\"Inference time: {:.2f} seconds\".format(inference_time))\n",
    "\n",
    "pred = np.argmax(pred,axis=1)\n",
    "y_test = Y_test.argmax(axis=1)"
   ]
  },
  {
   "cell_type": "code",
   "execution_count": null,
   "id": "a67269a4",
   "metadata": {},
   "outputs": [],
   "source": []
  },
  {
   "cell_type": "markdown",
   "id": "ca965ea6",
   "metadata": {},
   "source": [
    "# With default learning rate and mae loss function."
   ]
  },
  {
   "cell_type": "code",
   "execution_count": 31,
   "id": "2d7fd2b9",
   "metadata": {},
   "outputs": [
    {
     "name": "stdout",
     "output_type": "stream",
     "text": [
      "WARNING:tensorflow:Layer lstm_8 will not use cuDNN kernels since it doesn't meet the criteria. It will use a generic GPU kernel as fallback when running on GPU.\n",
      "WARNING:tensorflow:Layer lstm_9 will not use cuDNN kernels since it doesn't meet the criteria. It will use a generic GPU kernel as fallback when running on GPU.\n",
      "WARNING:tensorflow:Layer lstm_10 will not use cuDNN kernels since it doesn't meet the criteria. It will use a generic GPU kernel as fallback when running on GPU.\n",
      "WARNING:tensorflow:Layer lstm_11 will not use cuDNN kernels since it doesn't meet the criteria. It will use a generic GPU kernel as fallback when running on GPU.\n",
      "Model: \"model_2\"\n",
      "_________________________________________________________________\n",
      " Layer (type)                Output Shape              Param #   \n",
      "=================================================================\n",
      " input_3 (InputLayer)        [(None, 1, 76)]           0         \n",
      "                                                                 \n",
      " lstm_8 (LSTM)               (None, 1, 196)            214032    \n",
      "                                                                 \n",
      " lstm_9 (LSTM)               (None, 125)               161000    \n",
      "                                                                 \n",
      " repeat_vector_2 (RepeatVect  (None, 1, 125)           0         \n",
      " or)                                                             \n",
      "                                                                 \n",
      " lstm_10 (LSTM)              (None, 1, 125)            125500    \n",
      "                                                                 \n",
      " lstm_11 (LSTM)              (None, 1, 196)            252448    \n",
      "                                                                 \n",
      " time_distributed_2 (TimeDis  (None, 1, 76)            14972     \n",
      " tributed)                                                       \n",
      "                                                                 \n",
      "=================================================================\n",
      "Total params: 767,952\n",
      "Trainable params: 767,952\n",
      "Non-trainable params: 0\n",
      "_________________________________________________________________\n"
     ]
    }
   ],
   "source": [
    "# create the autoencoder model\n",
    "model = autoencoder_model(X_train)\n",
    "model.compile(optimizer='adam', loss='mae', metrics='accuracy') \n",
    "model.summary()"
   ]
  },
  {
   "cell_type": "code",
   "execution_count": 32,
   "id": "2160d0cd",
   "metadata": {},
   "outputs": [
    {
     "name": "stdout",
     "output_type": "stream",
     "text": [
      "Epoch 1/5\n",
      "40096/40096 [==============================] - 456s 11ms/step - loss: 0.0104 - accuracy: 0.9416 - val_loss: 0.0089 - val_accuracy: 0.9539\n",
      "Epoch 2/5\n",
      "40096/40096 [==============================] - 457s 11ms/step - loss: 0.0062 - accuracy: 0.9657 - val_loss: 0.0069 - val_accuracy: 0.9745\n",
      "Epoch 3/5\n",
      "40096/40096 [==============================] - 470s 12ms/step - loss: 0.0059 - accuracy: 0.9687 - val_loss: 0.0065 - val_accuracy: 0.9749\n",
      "Epoch 4/5\n",
      "40096/40096 [==============================] - 467s 12ms/step - loss: 0.0053 - accuracy: 0.9751 - val_loss: 0.0058 - val_accuracy: 0.9764\n",
      "Epoch 5/5\n",
      "40096/40096 [==============================] - 462s 12ms/step - loss: 0.0054 - accuracy: 0.9794 - val_loss: 0.0056 - val_accuracy: 0.9818\n"
     ]
    }
   ],
   "source": [
    "# fit the model to the data\n",
    "history = model.fit(X_train, X_train, epochs=5, batch_size=128, validation_split=0.05).history"
   ]
  },
  {
   "cell_type": "code",
   "execution_count": 33,
   "id": "ded2772f",
   "metadata": {},
   "outputs": [
    {
     "name": "stdout",
     "output_type": "stream",
     "text": [
      "56275/56275 [==============================] - 117s 2ms/step\n",
      "Inference time: 133.94 seconds\n"
     ]
    }
   ],
   "source": [
    "import time\n",
    "\n",
    "# Measure inference time\n",
    "start_time = time.time()\n",
    "pred = model.predict(X_test)\n",
    "end_time = time.time()\n",
    "\n",
    "inference_time = end_time - start_time\n",
    "print(\"Inference time: {:.2f} seconds\".format(inference_time))\n",
    "\n",
    "pred = np.argmax(pred,axis=1)\n",
    "y_test = Y_test.argmax(axis=1)"
   ]
  },
  {
   "cell_type": "markdown",
   "id": "07816ded",
   "metadata": {},
   "source": [
    "# With learning rate=0.0001 and mae loss function."
   ]
  },
  {
   "cell_type": "code",
   "execution_count": 34,
   "id": "172ee8cc",
   "metadata": {},
   "outputs": [
    {
     "name": "stdout",
     "output_type": "stream",
     "text": [
      "WARNING:tensorflow:Layer lstm_12 will not use cuDNN kernels since it doesn't meet the criteria. It will use a generic GPU kernel as fallback when running on GPU.\n",
      "WARNING:tensorflow:Layer lstm_13 will not use cuDNN kernels since it doesn't meet the criteria. It will use a generic GPU kernel as fallback when running on GPU.\n",
      "WARNING:tensorflow:Layer lstm_14 will not use cuDNN kernels since it doesn't meet the criteria. It will use a generic GPU kernel as fallback when running on GPU.\n",
      "WARNING:tensorflow:Layer lstm_15 will not use cuDNN kernels since it doesn't meet the criteria. It will use a generic GPU kernel as fallback when running on GPU.\n",
      "Model: \"model_3\"\n",
      "_________________________________________________________________\n",
      " Layer (type)                Output Shape              Param #   \n",
      "=================================================================\n",
      " input_4 (InputLayer)        [(None, 1, 76)]           0         \n",
      "                                                                 \n",
      " lstm_12 (LSTM)              (None, 1, 196)            214032    \n",
      "                                                                 \n",
      " lstm_13 (LSTM)              (None, 125)               161000    \n",
      "                                                                 \n",
      " repeat_vector_3 (RepeatVect  (None, 1, 125)           0         \n",
      " or)                                                             \n",
      "                                                                 \n",
      " lstm_14 (LSTM)              (None, 1, 125)            125500    \n",
      "                                                                 \n",
      " lstm_15 (LSTM)              (None, 1, 196)            252448    \n",
      "                                                                 \n",
      " time_distributed_3 (TimeDis  (None, 1, 76)            14972     \n",
      " tributed)                                                       \n",
      "                                                                 \n",
      "=================================================================\n",
      "Total params: 767,952\n",
      "Trainable params: 767,952\n",
      "Non-trainable params: 0\n",
      "_________________________________________________________________\n"
     ]
    }
   ],
   "source": [
    "# create the autoencoder model\n",
    "model = autoencoder_model(X_train)\n",
    "\n",
    "opt = tf.keras.optimizers.Adam(learning_rate=0.0001)\n",
    "\n",
    "model.compile(optimizer=opt, loss='mae', metrics='accuracy') \n",
    "model.summary()"
   ]
  },
  {
   "cell_type": "code",
   "execution_count": 36,
   "id": "714132c2",
   "metadata": {},
   "outputs": [
    {
     "name": "stdout",
     "output_type": "stream",
     "text": [
      "Epoch 1/5\n",
      "80192/80192 [==============================] - 477s 11ms/step - loss: 0.0114 - accuracy: 0.9329 - val_loss: 0.0103 - val_accuracy: 0.9315\n",
      "Epoch 2/5\n",
      "80192/80192 [==============================] - 475s 12ms/step - loss: 0.0108 - accuracy: 0.9668 - val_loss: 0.0098 - val_accuracy: 0.9760\n",
      "Epoch 3/5\n",
      "80192/80192 [==============================] - 474s 12ms/step - loss: 0.0081 - accuracy: 0.9682 - val_loss: 0.0070 - val_accuracy: 0.9799\n",
      "Epoch 4/5\n",
      "80192/80192 [==============================] - 466s 11ms/step - loss: 0.0063 - accuracy: 0.9762 - val_loss: 0.0056 - val_accuracy: 0.9887\n",
      "Epoch 5/5\n",
      "80192/80192 [==============================] - 475s 11ms/step - loss: 0.0050 - accuracy: 0.9798 - val_loss: 0.0046 - val_accuracy: 0.9876\n"
     ]
    }
   ],
   "source": [
    "# fit the model to the data\n",
    "history = model.fit(X_train, X_train, epochs=5, batch_size=128, validation_split=0.05).history"
   ]
  },
  {
   "cell_type": "code",
   "execution_count": 37,
   "id": "854c410a",
   "metadata": {},
   "outputs": [
    {
     "name": "stdout",
     "output_type": "stream",
     "text": [
      "56275/56275 [==============================] - 103s 2ms/step\n",
      "Inference time: 118.21 seconds\n"
     ]
    }
   ],
   "source": [
    "import time\n",
    "\n",
    "# Measure inference time\n",
    "start_time = time.time()\n",
    "pred = model.predict(X_test)\n",
    "end_time = time.time()\n",
    "\n",
    "inference_time = end_time - start_time\n",
    "print(\"Inference time: {:.2f} seconds\".format(inference_time))\n",
    "\n",
    "pred = np.argmax(pred,axis=1)\n",
    "y_test = Y_test.argmax(axis=1)"
   ]
  },
  {
   "cell_type": "code",
   "execution_count": null,
   "id": "e6fee6ce",
   "metadata": {},
   "outputs": [],
   "source": []
  },
  {
   "cell_type": "markdown",
   "id": "f445cdae",
   "metadata": {},
   "source": [
    "# With default learning rate and mae loss function, to 30 epochs."
   ]
  },
  {
   "cell_type": "code",
   "execution_count": 38,
   "id": "f07940e9",
   "metadata": {},
   "outputs": [
    {
     "name": "stdout",
     "output_type": "stream",
     "text": [
      "WARNING:tensorflow:Layer lstm_16 will not use cuDNN kernels since it doesn't meet the criteria. It will use a generic GPU kernel as fallback when running on GPU.\n",
      "WARNING:tensorflow:Layer lstm_17 will not use cuDNN kernels since it doesn't meet the criteria. It will use a generic GPU kernel as fallback when running on GPU.\n",
      "WARNING:tensorflow:Layer lstm_18 will not use cuDNN kernels since it doesn't meet the criteria. It will use a generic GPU kernel as fallback when running on GPU.\n",
      "WARNING:tensorflow:Layer lstm_19 will not use cuDNN kernels since it doesn't meet the criteria. It will use a generic GPU kernel as fallback when running on GPU.\n",
      "Model: \"model_4\"\n",
      "_________________________________________________________________\n",
      " Layer (type)                Output Shape              Param #   \n",
      "=================================================================\n",
      " input_5 (InputLayer)        [(None, 1, 76)]           0         \n",
      "                                                                 \n",
      " lstm_16 (LSTM)              (None, 1, 196)            214032    \n",
      "                                                                 \n",
      " lstm_17 (LSTM)              (None, 125)               161000    \n",
      "                                                                 \n",
      " repeat_vector_4 (RepeatVect  (None, 1, 125)           0         \n",
      " or)                                                             \n",
      "                                                                 \n",
      " lstm_18 (LSTM)              (None, 1, 125)            125500    \n",
      "                                                                 \n",
      " lstm_19 (LSTM)              (None, 1, 196)            252448    \n",
      "                                                                 \n",
      " time_distributed_4 (TimeDis  (None, 1, 76)            14972     \n",
      " tributed)                                                       \n",
      "                                                                 \n",
      "=================================================================\n",
      "Total params: 767,952\n",
      "Trainable params: 767,952\n",
      "Non-trainable params: 0\n",
      "_________________________________________________________________\n"
     ]
    }
   ],
   "source": [
    "# create the autoencoder model\n",
    "model = autoencoder_model(X_train)\n",
    "\n",
    "model.compile(optimizer='adam', loss='mae', metrics='accuracy') \n",
    "model.summary()"
   ]
  },
  {
   "cell_type": "code",
   "execution_count": 39,
   "id": "752928e0",
   "metadata": {},
   "outputs": [
    {
     "name": "stdout",
     "output_type": "stream",
     "text": [
      "Epoch 1/30\n",
      "40096/40096 [==============================] - 450s 11ms/step - loss: 0.0109 - accuracy: 0.9594 - val_loss: 0.0095 - val_accuracy: 0.9628\n",
      "Epoch 2/30\n",
      "40096/40096 [==============================] - 449s 11ms/step - loss: 0.0091 - accuracy: 0.9781 - val_loss: 0.0081 - val_accuracy: 0.9841\n",
      "Epoch 3/30\n",
      "40096/40096 [==============================] - 443s 11ms/step - loss: 0.0089 - accuracy: 0.9808 - val_loss: 0.0084 - val_accuracy: 0.9858\n",
      "Epoch 4/30\n",
      "40096/40096 [==============================] - 460s 11ms/step - loss: 0.0084 - accuracy: 0.9815 - val_loss: 0.0087 - val_accuracy: 0.9865\n",
      "Epoch 5/30\n",
      "40096/40096 [==============================] - 457s 11ms/step - loss: 0.0081 - accuracy: 0.9815 - val_loss: 0.0085 - val_accuracy: 0.9870\n",
      "Epoch 6/30\n",
      "40096/40096 [==============================] - 472s 12ms/step - loss: 0.0076 - accuracy: 0.9822 - val_loss: 0.0071 - val_accuracy: 0.9874\n",
      "Epoch 7/30\n",
      "40096/40096 [==============================] - 465s 12ms/step - loss: 0.0077 - accuracy: 0.9821 - val_loss: 0.0074 - val_accuracy: 0.9878\n",
      "Epoch 8/30\n",
      "40096/40096 [==============================] - 445s 11ms/step - loss: 0.0079 - accuracy: 0.9823 - val_loss: 0.0074 - val_accuracy: 0.9880\n",
      "Epoch 9/30\n",
      "40096/40096 [==============================] - 439s 11ms/step - loss: 0.0063 - accuracy: 0.9825 - val_loss: 0.0073 - val_accuracy: 0.9880\n",
      "Epoch 10/30\n",
      "40096/40096 [==============================] - 452s 11ms/step - loss: 0.0061 - accuracy: 0.9848 - val_loss: 0.0070 - val_accuracy: 0.9882\n",
      "Epoch 11/30\n",
      "40096/40096 [==============================] - 450s 11ms/step - loss: 0.0062 - accuracy: 0.9855 - val_loss: 0.0067 - val_accuracy: 0.9881\n",
      "Epoch 12/30\n",
      "40096/40096 [==============================] - 462s 12ms/step - loss: 0.0061 - accuracy: 0.9861 - val_loss: 0.0067 - val_accuracy: 0.9882\n",
      "Epoch 13/30\n",
      "40096/40096 [==============================] - 457s 11ms/step - loss: 0.0063 - accuracy: 0.9866 - val_loss: 0.0065 - val_accuracy: 0.9889\n",
      "Epoch 14/30\n",
      "40096/40096 [==============================] - 457s 11ms/step - loss: 0.0054 - accuracy: 0.9872 - val_loss: 0.0065 - val_accuracy: 0.9893\n",
      "Epoch 15/30\n",
      "40096/40096 [==============================] - 462s 12ms/step - loss: 0.0051 - accuracy: 0.9873 - val_loss: 0.0061 - val_accuracy: 0.9891\n",
      "Epoch 16/30\n",
      "40096/40096 [==============================] - 462s 12ms/step - loss: 0.0053 - accuracy: 0.9879 - val_loss: 0.0064 - val_accuracy: 0.9889\n",
      "Epoch 17/30\n",
      "40096/40096 [==============================] - 463s 12ms/step - loss: 0.0052 - accuracy: 0.9876 - val_loss: 0.0060 - val_accuracy: 0.9897\n",
      "Epoch 18/30\n",
      "40096/40096 [==============================] - 462s 12ms/step - loss: 0.0048 - accuracy: 0.9879 - val_loss: 0.0058 - val_accuracy: 0.9900\n",
      "Epoch 19/30\n",
      "40096/40096 [==============================] - 465s 12ms/step - loss: 0.0046 - accuracy: 0.9885 - val_loss: 0.0056 - val_accuracy: 0.9903\n",
      "Epoch 20/30\n",
      "40096/40096 [==============================] - 465s 12ms/step - loss: 0.0045 - accuracy: 0.9884 - val_loss: 0.0059 - val_accuracy: 0.9907\n",
      "Epoch 21/30\n",
      "40096/40096 [==============================] - 458s 11ms/step - loss: 0.0051 - accuracy: 0.9887 - val_loss: 0.0052 - val_accuracy: 0.9904\n",
      "Epoch 22/30\n",
      "40096/40096 [==============================] - 460s 11ms/step - loss: 0.0050 - accuracy: 0.9888 - val_loss: 0.0051 - val_accuracy: 0.9902\n",
      "Epoch 23/30\n",
      "40096/40096 [==============================] - 434s 11ms/step - loss: 0.0053 - accuracy: 0.9891 - val_loss: 0.0051 - val_accuracy: 0.9907\n",
      "Epoch 24/30\n",
      "40096/40096 [==============================] - 460s 11ms/step - loss: 0.0052 - accuracy: 0.9895 - val_loss: 0.0052 - val_accuracy: 0.9908\n",
      "Epoch 25/30\n",
      "40096/40096 [==============================] - 459s 11ms/step - loss: 0.0052 - accuracy: 0.9903 - val_loss: 0.0048 - val_accuracy: 0.9905\n",
      "Epoch 26/30\n",
      "40096/40096 [==============================] - 459s 11ms/step - loss: 0.0045 - accuracy: 0.9901 - val_loss: 0.0043 - val_accuracy: 0.9902\n",
      "Epoch 27/30\n",
      "40096/40096 [==============================] - 432s 11ms/step - loss: 0.0047 - accuracy: 0.9908 - val_loss: 0.0040 - val_accuracy: 0.9905\n",
      "Epoch 28/30\n",
      "40096/40096 [==============================] - 449s 11ms/step - loss: 0.0049 - accuracy: 0.9906 - val_loss: 0.0041 - val_accuracy: 0.9903\n",
      "Epoch 29/30\n",
      "40096/40096 [==============================] - 454s 11ms/step - loss: 0.0044 - accuracy: 0.9905 - val_loss: 0.0039 - val_accuracy: 0.9909\n",
      "Epoch 30/30\n",
      "40096/40096 [==============================] - 475s 12ms/step - loss: 0.0042 - accuracy: 0.9906 - val_loss: 0.0040 - val_accuracy: 0.9910\n"
     ]
    }
   ],
   "source": [
    "# fit the model to the data\n",
    "history = model.fit(X_train, X_train, epochs=30, batch_size=128, validation_split=0.05).history"
   ]
  },
  {
   "cell_type": "code",
   "execution_count": 40,
   "id": "c6bd3f89",
   "metadata": {},
   "outputs": [
    {
     "name": "stdout",
     "output_type": "stream",
     "text": [
      "56275/56275 [==============================] - 112s 2ms/step\n",
      "Inference time: 128.24 seconds\n"
     ]
    }
   ],
   "source": [
    "import time\n",
    "\n",
    "# Measure inference time\n",
    "start_time = time.time()\n",
    "pred = model.predict(X_test)\n",
    "end_time = time.time()\n",
    "\n",
    "inference_time = end_time - start_time\n",
    "print(\"Inference time: {:.2f} seconds\".format(inference_time))\n",
    "\n",
    "pred = np.argmax(pred,axis=1)\n",
    "y_test = Y_test.argmax(axis=1)"
   ]
  },
  {
   "cell_type": "code",
   "execution_count": 41,
   "id": "9042b2f6",
   "metadata": {},
   "outputs": [
    {
     "name": "stdout",
     "output_type": "stream",
     "text": [
      "56275/56275 [==============================] - 115s 2ms/step\n",
      "14069/14069 [==============================] - 37s 3ms/step - loss: 0.0040 - accuracy: 0.9910\n",
      "Completed\n",
      "Time taken: 0:02:47.789283\n"
     ]
    }
   ],
   "source": [
    "import datetime as dt\n",
    "from sklearn.metrics import accuracy_score, confusion_matrix, precision_score, recall_score, f1_score, roc_auc_score, auc\n",
    "from sklearn import preprocessing\n",
    "from sklearn.metrics import mean_squared_error, mean_absolute_error, r2_score\n",
    "\n",
    "\n",
    "start = dt.datetime.now()\n",
    "\n",
    "y_pred = model.predict(X_test)\n",
    "escore = model.evaluate(X_test, X_test, batch_size=128)\n",
    "\n",
    "# evaluate classification metrics (for multiclass targets)\n",
    "#accuracy = accuracy_score(Y_test.argmax(axis=1), y_pred.argmax(axis=1))\n",
    "#precision = precision_score(Y_test.argmax(axis=1), y_pred.argmax(axis=1), average='weighted')\n",
    "#recall = recall_score(Y_test.argmax(axis=1), y_pred.argmax(axis=1), average='weighted')\n",
    "#f1 = f1_score(Y_test.argmax(axis=1), y_pred.argmax(axis=1), average='weighted')\n",
    "#confusion = confusion_matrix(Y_test.argmax(axis=1), y_pred.argmax(axis=1))\n",
    "\n",
    "\n",
    "\n",
    "# print the results\n",
    "#print(\"Accuracy: {:.3f}\".format(accuracy))\n",
    "#print(\"Precision: {:.3f}\".format(precision))\n",
    "#print(\"Recall: {:.3f}\".format(recall))\n",
    "#print(\"F1-score: {:.3f}\".format(f1))\n",
    "#print(\"Confusion Matrix:\\n\", confusion)\n",
    "\n",
    "print('Completed')\n",
    "print('Time taken:',dt.datetime.now()-start)"
   ]
  },
  {
   "cell_type": "code",
   "execution_count": null,
   "id": "5e45c930",
   "metadata": {},
   "outputs": [],
   "source": []
  }
 ],
 "metadata": {
  "kernelspec": {
   "display_name": "Python 3 (ipykernel)",
   "language": "python",
   "name": "python3"
  },
  "language_info": {
   "codemirror_mode": {
    "name": "ipython",
    "version": 3
   },
   "file_extension": ".py",
   "mimetype": "text/x-python",
   "name": "python",
   "nbconvert_exporter": "python",
   "pygments_lexer": "ipython3",
   "version": "3.9.12"
  }
 },
 "nbformat": 4,
 "nbformat_minor": 5
}
